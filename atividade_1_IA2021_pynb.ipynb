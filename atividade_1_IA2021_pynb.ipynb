{
  "nbformat": 4,
  "nbformat_minor": 0,
  "metadata": {
    "colab": {
      "name": "atividade_1_IA2021.pynb",
      "provenance": [],
      "collapsed_sections": [],
      "authorship_tag": "ABX9TyMSwcdv+0NP3FfbMhtz9E7m",
      "include_colab_link": true
    },
    "kernelspec": {
      "name": "python3",
      "display_name": "Python 3"
    },
    "language_info": {
      "name": "python"
    }
  },
  "cells": [
    {
      "cell_type": "markdown",
      "metadata": {
        "id": "view-in-github",
        "colab_type": "text"
      },
      "source": [
        "<a href=\"https://colab.research.google.com/github/Z-Augusto-Vital/8Puzzle-A-Star/blob/main/atividade_1_IA2021_pynb.ipynb\" target=\"_parent\"><img src=\"https://colab.research.google.com/assets/colab-badge.svg\" alt=\"Open In Colab\"/></a>"
      ]
    },
    {
      "cell_type": "code",
      "metadata": {
        "id": "sz3f4aufuvzd"
      },
      "source": [
        "import copy\n",
        "from heapq import heappush, heappop\n",
        "\n",
        "# Função para verificar se o movimento é válido\n",
        "def valida(x,y):\n",
        "    r = True\n",
        "    if (x < 0 or x > 2): r = False\n",
        "    if (y < 0 or y > 2): r = False\n",
        "\n",
        "    return r\n",
        "\n",
        "# Função que gera os filhos do nó s, no caso\n",
        "# as opções de reposicionamento do espaço vazio\n",
        "def sons(s):\n",
        "    r = []\n",
        "    x = None\n",
        "    y = None\n",
        "\n",
        "    # localizando 0\n",
        "    for i in range(len(s)):\n",
        "        for j in range(len(s[i])):\n",
        "            if (s[i][j] == 0):\n",
        "                x = i\n",
        "                y = j\n",
        "\n",
        "    # sobe\n",
        "    vx = x - 1\n",
        "    vy = y\n",
        "    if (valida(vx,vy)):\n",
        "        cover = copy.deepcopy(s)\n",
        "        t = cover[vx][vy]\n",
        "        cover[vx][vy] = cover[x][y]\n",
        "        cover[x][y] = t\n",
        "        r.append(cover)\n",
        "\n",
        "    # desce\n",
        "    vx = x + 1\n",
        "    vy = y\n",
        "    if (valida(vx,vy)):\n",
        "        cover = copy.deepcopy(s)\n",
        "        t = cover[vx][vy]\n",
        "        cover[vx][vy] = cover[x][y]\n",
        "        cover[x][y] = t\n",
        "        r.append(cover)\n",
        "\n",
        "    # esquerda\n",
        "    vx = x\n",
        "    vy = y - 1\n",
        "    if (valida(vx,vy)):\n",
        "        cover = copy.deepcopy(s)\n",
        "        t = cover[vx][vy]\n",
        "        cover[vx][vy] = cover[x][y]\n",
        "        cover[x][y] = t\n",
        "        r.append(cover)\n",
        "\n",
        "        # direita\n",
        "    vx = x\n",
        "    vy = y + 1\n",
        "    if (valida(vx,vy)):\n",
        "        cover = copy.deepcopy(s)\n",
        "        t = cover[vx][vy]\n",
        "        cover[vx][vy] = cover[x][y]\n",
        "        cover[x][y] = t\n",
        "        r.append(cover)\n",
        "\n",
        "    return r\n",
        "\n",
        "# Função que imprime a instância atual do puzzle\n",
        "def printPuzzle(s):\n",
        "    for i in s:\n",
        "        print(i)\n",
        "\n",
        "# Função de conversão para str\n",
        "def son2str(s):\n",
        "    s1 = s[0] + s[1] + s[2]\n",
        "    return ''.join([str(v) for v in s1])\n",
        "\n",
        "# EXERCÍCIO 1 -\n",
        "# Heurística que contabiliza a quantidade de \n",
        "# elementos na posição errada comparando\n",
        "# com o puzzle resposta\n",
        "def h1(start,goal):\n",
        "    contador = 0\n",
        "    for i in range(3):\n",
        "        for j in range(3):\n",
        "            if (start[i][j] != goal[i][j]):\n",
        "                contador += 1\n",
        "\n",
        "    return contador\n",
        "\n",
        "def h2(start,goal):\n",
        "    dist = 0\n",
        "    for i in range(3):\n",
        "        for j in range(3):\n",
        "            for k in range(3):\n",
        "                for l in range(3):\n",
        "                    if (goal[i][j] == start[k][l]):\n",
        "                        dist += abs(int(i-k)) +abs(int(j-l))\n",
        "\n",
        "    return dist\n"
      ],
      "execution_count": null,
      "outputs": []
    },
    {
      "cell_type": "code",
      "metadata": {
        "id": "Cqj-Vcub6SRI"
      },
      "source": [
        "# Algoritmo Hill Climbing\n",
        "# Função busca que utiliza uma função\n",
        "# heurística como auxílio para calcular\n",
        "# a solução de maneira mais eficiente\n",
        "# f(n) = h(n) \n",
        "def busca_heuristica(start,goal,heuristica):\n",
        "    h = []\n",
        "    heappush(h,(heuristica(start,goal),start))\n",
        "    fathers = dict()\n",
        "    visited = [start]\n",
        "    while (len(h)>0):\n",
        "        (_,father) = heappop(h)\n",
        "        for son in sons(father):\n",
        "            if son not in visited:\n",
        "                visited.append(son)\n",
        "               # print(len(visited))\n",
        "                fathers[son2str(son)] = father\n",
        "                if son == goal:\n",
        "                    res = []\n",
        "                    node = son\n",
        "                    while node != start:\n",
        "                        res.append(node)\n",
        "                        node = fathers[son2str(node)]\n",
        "                    res.append(start)\n",
        "                    res.reverse()\n",
        "                    print(len(visited))\n",
        "                   # print(res)\n",
        "                    return res\n",
        "                else:\n",
        "                    heappush(h,(heuristica(son,goal),son))\n",
        "    print(\"Sem Solucao\")"
      ],
      "execution_count": null,
      "outputs": []
    },
    {
      "cell_type": "code",
      "metadata": {
        "id": "2M5aJFpzeVBv"
      },
      "source": [
        "# EXERCÍCIO 2\n",
        "\n",
        "# Puzzle - solução em 5 movimentos\n",
        "# 1 3 6\n",
        "# 4 2 0\n",
        "# 7 5 8\n",
        "\n",
        "# Puzzle - solução em 10 movimentos\n",
        "# 1 3 0\n",
        "# 4 5 6\n",
        "# 7 8 2\n",
        "\n",
        "# Puzzle - solução em 15 movimentos\n",
        "# 4 1 3\n",
        "# 5 6 0\n",
        "# 7 8 2\n",
        "\n",
        "# Puzzle - solução em 20 movimentos\n",
        "# 0 6 1\n",
        "# 4 5 3\n",
        "# 7 8 2\n",
        "\n",
        "# Puzzle - solução em 25 movimentos\n",
        "# 6 5 1\n",
        "# 4 8 0\n",
        "# 7 2 3"
      ],
      "execution_count": null,
      "outputs": []
    },
    {
      "cell_type": "code",
      "metadata": {
        "colab": {
          "base_uri": "https://localhost:8080/",
          "height": 312
        },
        "id": "po9VXECyRuTq",
        "outputId": "bc7f7f7f-fba5-4cd0-a321-e1a63ee6a9f0"
      },
      "source": [
        "# EXERCÍCIO 3\n",
        "# Plotagem do gráfico para analisar a eficiência\n",
        "# do algoritmo Hill Climbing utilizando tanto\n",
        "# a heurística de posições erradas, quanto a\n",
        "# heurística de Manhattan\n",
        "import numpy as np\n",
        "\n",
        "hc1 = [12,333,336,1198,1029]\n",
        "hc2 = [12,37,45,54,87]\n",
        "\n",
        "x = np.linspace(0, 25, 5)\n",
        "y1 = hc1\n",
        "y2 = hc2\n",
        "plt.title('Eficiência H1 e H2 Hill climbing') \n",
        "plt.xlabel('Quantidade de passos')\n",
        "plt.ylabel('Quantidade de nós visitados')\n",
        "plt.plot(x, y1, \"b-\", color = 'green',label='h1')\n",
        "plt.plot(x, y2, \"b-\", color = 'red', label ='h2')\n",
        "plt.legend(['H1 hill climbing', 'H2 hill climbing'], loc=0)\n",
        "plt.scatter(x, y1)\n",
        "plt.scatter(x, y2)"
      ],
      "execution_count": null,
      "outputs": [
        {
          "output_type": "execute_result",
          "data": {
            "text/plain": [
              "<matplotlib.collections.PathCollection at 0x7fb2675fdf50>"
            ]
          },
          "metadata": {
            "tags": []
          },
          "execution_count": 310
        },
        {
          "output_type": "display_data",
          "data": {
            "image/png": "[encoded data removed]",
            "text/plain": [
              "<Figure size 432x288 with 1 Axes>"
            ]
          },
          "metadata": {
            "tags": [],
            "needs_background": "light"
          }
        }
      ]
    },
    {
      "cell_type": "code",
      "metadata": {
        "id": "9fkVw83I8vpN"
      },
      "source": [
        "# EXERCÍCIO 4\n",
        "# Algoritmo A*\n",
        "# Função busca que utiliza uma função\n",
        "# heurística como auxílio para calcular\n",
        "# a solução de maneira mais eficiente e,\n",
        "# além disso, utiliza uma função g\n",
        "# para determinar o custo até um nó meta \n",
        "# f(n) = h(n) + g(n) \n",
        "def busca_a_Star(start,goal,heuristica):\n",
        "    h = []\n",
        "    heappush(h,(heuristica(start, goal), start))\n",
        "    pais = dict()\n",
        "    visited = [start]\n",
        "\n",
        "    while (len(h) > 0):\n",
        "        (_, pai) = heappop(h)\n",
        "        for filho in sons(pai):\n",
        "            if filho not in visited:\n",
        "                visited.append(filho)\n",
        "                pais[son2str(filho)] = pai\n",
        "                no = filho\n",
        "                res = []\n",
        "                profund = 0\n",
        "                while no != start:\n",
        "                    res.append(no)\n",
        "                    no = pais[son2str(no)]\n",
        "                    profund += 1\n",
        "                res.append(start)\n",
        "                res.reverse()\n",
        "                if filho == goal:\n",
        "                    print(len(visited))\n",
        "                    return res\n",
        "                else:\n",
        "                    heappush(h, (heuristica(filho, goal)+ profund, filho))\n",
        "    print(\"Nao tem solucao\")"
      ],
      "execution_count": null,
      "outputs": []
    },
    {
      "cell_type": "code",
      "metadata": {
        "colab": {
          "base_uri": "https://localhost:8080/",
          "height": 312
        },
        "id": "xxFfrx9caOfS",
        "outputId": "8ed94e64-a451-4e8d-84c0-5ee2c3013c73"
      },
      "source": [
        "# Plotagem do gráfico para analisar a eficiência\n",
        "# do algoritmo A* utilizando tanto\n",
        "# a heurística de posições erradas, quanto a\n",
        "# heurística de Manhattan\n",
        "import numpy as np\n",
        "\n",
        "h1 = [12,74,515,3748,14300]\n",
        "h2 = [13,56,222,773,2894]\n",
        "\n",
        "x = np.linspace(0, 25, 5)\n",
        "y1 = h1\n",
        "y2 = h2\n",
        "plt.title('Eficiência H1 e H2 A*') \n",
        "plt.xlabel('Quantidade de passos')\n",
        "plt.ylabel('Quantidade de nós visitados')\n",
        "plt.plot(x, y1, \"b-\", color = 'purple',label='h1')\n",
        "plt.plot(x, y2, \"b-\", color = 'blue', label ='h2')\n",
        "plt.legend(['H1 A*', 'H2 A*'], loc=0)\n",
        "plt.scatter(x, y1)\n",
        "plt.scatter(x, y2)"
      ],
      "execution_count": null,
      "outputs": [
        {
          "output_type": "execute_result",
          "data": {
            "text/plain": [
              "<matplotlib.collections.PathCollection at 0x7fb26599cc50>"
            ]
          },
          "metadata": {
            "tags": []
          },
          "execution_count": 312
        },
        {
          "output_type": "display_data",
          "data": {
            "image/png": "[encoded data removed]",
            "text/plain": [
              "<Figure size 432x288 with 1 Axes>"
            ]
          },
          "metadata": {
            "tags": [],
            "needs_background": "light"
          }
        }
      ]
    },
    {
      "cell_type": "code",
      "metadata": {
        "colab": {
          "base_uri": "https://localhost:8080/"
        },
        "id": "gFya7Ha18Q1X",
        "outputId": "83b96024-aae1-4e04-b94a-923d33b61190"
      },
      "source": [
        "# EXECUÇÕES TESTE\n",
        "start = [[1,3,0],[4,5,6],[7,8,2]]\n",
        "goal  = [[1,2,3],[4,5,6],[7,8,0]]\n",
        "\n",
        "resp = busca_heuristica(start,goal,h2)\n",
        "print('')\n",
        "i = 0\n",
        "for s in resp:\n",
        "    print(i)\n",
        "    i+=1\n",
        "    printPuzzle(s)\n",
        "    print()\n",
        "print('')\n",
        "print('')\n",
        "\n",
        "# A* H1\n",
        "resp2 = busca_a_Star(start,goal,h2)\n",
        "i = 0\n",
        "for s in resp2:\n",
        "    print(i)\n",
        "    i+=1\n",
        "    printPuzzle(s)\n",
        "    print()"
      ],
      "execution_count": null,
      "outputs": [
        {
          "output_type": "stream",
          "text": [
            "37\n",
            "\n",
            "0\n",
            "[1, 3, 0]\n",
            "[4, 5, 6]\n",
            "[7, 8, 2]\n",
            "\n",
            "1\n",
            "[1, 3, 6]\n",
            "[4, 5, 0]\n",
            "[7, 8, 2]\n",
            "\n",
            "2\n",
            "[1, 3, 6]\n",
            "[4, 5, 2]\n",
            "[7, 8, 0]\n",
            "\n",
            "3\n",
            "[1, 3, 6]\n",
            "[4, 5, 2]\n",
            "[7, 0, 8]\n",
            "\n",
            "4\n",
            "[1, 3, 6]\n",
            "[4, 0, 2]\n",
            "[7, 5, 8]\n",
            "\n",
            "5\n",
            "[1, 3, 6]\n",
            "[4, 2, 0]\n",
            "[7, 5, 8]\n",
            "\n",
            "6\n",
            "[1, 3, 0]\n",
            "[4, 2, 6]\n",
            "[7, 5, 8]\n",
            "\n",
            "7\n",
            "[1, 0, 3]\n",
            "[4, 2, 6]\n",
            "[7, 5, 8]\n",
            "\n",
            "8\n",
            "[1, 2, 3]\n",
            "[4, 0, 6]\n",
            "[7, 5, 8]\n",
            "\n",
            "9\n",
            "[1, 2, 3]\n",
            "[4, 5, 6]\n",
            "[7, 0, 8]\n",
            "\n",
            "10\n",
            "[1, 2, 3]\n",
            "[4, 5, 6]\n",
            "[7, 8, 0]\n",
            "\n",
            "\n",
            "\n",
            "56\n",
            "0\n",
            "[1, 3, 0]\n",
            "[4, 5, 6]\n",
            "[7, 8, 2]\n",
            "\n",
            "1\n",
            "[1, 3, 6]\n",
            "[4, 5, 0]\n",
            "[7, 8, 2]\n",
            "\n",
            "2\n",
            "[1, 3, 6]\n",
            "[4, 5, 2]\n",
            "[7, 8, 0]\n",
            "\n",
            "3\n",
            "[1, 3, 6]\n",
            "[4, 5, 2]\n",
            "[7, 0, 8]\n",
            "\n",
            "4\n",
            "[1, 3, 6]\n",
            "[4, 0, 2]\n",
            "[7, 5, 8]\n",
            "\n",
            "5\n",
            "[1, 3, 6]\n",
            "[4, 2, 0]\n",
            "[7, 5, 8]\n",
            "\n",
            "6\n",
            "[1, 3, 0]\n",
            "[4, 2, 6]\n",
            "[7, 5, 8]\n",
            "\n",
            "7\n",
            "[1, 0, 3]\n",
            "[4, 2, 6]\n",
            "[7, 5, 8]\n",
            "\n",
            "8\n",
            "[1, 2, 3]\n",
            "[4, 0, 6]\n",
            "[7, 5, 8]\n",
            "\n",
            "9\n",
            "[1, 2, 3]\n",
            "[4, 5, 6]\n",
            "[7, 0, 8]\n",
            "\n",
            "10\n",
            "[1, 2, 3]\n",
            "[4, 5, 6]\n",
            "[7, 8, 0]\n",
            "\n"
          ],
          "name": "stdout"
        }
      ]
    }
  ]
}